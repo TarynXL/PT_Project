{
  "cells": [
    {
      "cell_type": "code",
      "execution_count": null,
      "metadata": {
        "colab": {
          "background_save": true
        },
        "id": "vX3C5n-GIyz1"
      },
      "outputs": [],
      "source": [
        "from numpy.random import seed\n",
        "seed(42)\n",
        "\n",
        "import tensorflow\n",
        "tensorflow.random.set_seed(42)"
      ],
      "id": "vX3C5n-GIyz1"
    },
    {
      "cell_type": "code",
      "execution_count": 5,
      "metadata": {
        "id": "f470f635-8920-4b46-81cd-6e726af38d3e"
      },
      "outputs": [],
      "source": [
        "import numpy as np\n",
        "import pandas as pd\n",
        "import matplotlib.pyplot as plt"
      ],
      "id": "f470f635-8920-4b46-81cd-6e726af38d3e"
    },
    {
      "cell_type": "code",
      "execution_count": 6,
      "metadata": {
        "id": "3iigqQ-UwhkT"
      },
      "outputs": [],
      "source": [
        "from google.colab import files"
      ],
      "id": "3iigqQ-UwhkT"
    },
    {
      "cell_type": "code",
      "execution_count": 7,
      "metadata": {
        "colab": {
          "base_uri": "https://localhost:8080/",
          "height": 73,
          "resources": {
            "http://localhost:8080/nbextensions/google.colab/files.js": {
              "data": "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",
              "headers": [
                [
                  "content-type",
                  "application/javascript"
                ]
              ],
              "ok": true,
              "status": 200,
              "status_text": ""
            }
          }
        },
        "id": "gleumxGLwh55",
        "outputId": "895963ed-2df9-4e3e-823a-b06d3dc76282"
      },
      "outputs": [
        {
          "output_type": "display_data",
          "data": {
            "text/plain": [
              "<IPython.core.display.HTML object>"
            ],
            "text/html": [
              "\n",
              "     <input type=\"file\" id=\"files-1534f4bb-5e00-482f-a7e2-6292f883f2bb\" name=\"files[]\" multiple disabled\n",
              "        style=\"border:none\" />\n",
              "     <output id=\"result-1534f4bb-5e00-482f-a7e2-6292f883f2bb\">\n",
              "      Upload widget is only available when the cell has been executed in the\n",
              "      current browser session. Please rerun this cell to enable.\n",
              "      </output>\n",
              "      <script src=\"/nbextensions/google.colab/files.js\"></script> "
            ]
          },
          "metadata": {}
        },
        {
          "output_type": "stream",
          "name": "stdout",
          "text": [
            "Saving ML_GRF_stance_N.csv to ML_GRF_stance_N (1).csv\n"
          ]
        }
      ],
      "source": [
        "uploaded = files.upload()"
      ],
      "id": "gleumxGLwh55"
    },
    {
      "cell_type": "code",
      "execution_count": 8,
      "metadata": {
        "colab": {
          "base_uri": "https://localhost:8080/",
          "height": 487
        },
        "id": "9efec641-6a95-43d1-b6c0-5856d3e1194f",
        "outputId": "768be0b2-5e6d-4a3b-93eb-060408e75e54"
      },
      "outputs": [
        {
          "output_type": "execute_result",
          "data": {
            "text/plain": [
              "          0        1         2          3         4         5        6   \\\n",
              "0      3.591  2.30980   1.30420   1.544600   0.99642  -0.86461  -1.8383   \n",
              "1      2.199  0.30152  -0.49052  -0.002909   0.89121   0.30170  -2.7868   \n",
              "2      4.317  1.07650  -0.75328   0.764090  -0.55040  -3.91910  -7.3576   \n",
              "3      3.310  0.52531   1.30960   0.409730  -2.29800  -5.33850  -9.7976   \n",
              "4      1.821 -1.24800  -5.39700  -6.074400  -5.49380  -8.26350  -9.4401   \n",
              "...      ...      ...       ...        ...       ...       ...      ...   \n",
              "15691 -0.434  4.50740   5.93060  -2.600900 -14.79000 -21.28800 -24.8200   \n",
              "15692  1.164  4.43190   6.86710  -1.672000 -13.79200 -16.55900 -19.6420   \n",
              "15693  4.382  6.59760  10.75200   9.721600   8.98050   1.87340  -6.8512   \n",
              "15694  2.034  4.12090   9.56290  10.201000   4.41000   0.35724  -2.6013   \n",
              "15695  1.835  4.16270   8.83130   6.386800   3.50040  -7.19020 -12.0380   \n",
              "\n",
              "             7        8        9   ...       90        91        92       93  \\\n",
              "0      -3.34520  -5.4749  -8.6983  ...   2.4066   2.31010   2.44570   2.7795   \n",
              "1      -6.95390  -9.0650  -8.6581  ...  -2.6806  -1.52520  -0.81006  -1.4067   \n",
              "2     -10.71500 -12.6630 -11.4040  ...  19.6700  17.28500  13.19600  10.5000   \n",
              "3     -12.07200 -12.3320 -10.2080  ...   7.8613   7.05710   6.05990   4.8255   \n",
              "4      -9.57430  -9.1991  -5.4045  ...  17.5130  16.00400  13.37500  12.1960   \n",
              "...         ...      ...      ...  ...      ...       ...       ...      ...   \n",
              "15691 -21.49100 -24.4130 -20.9730  ...   1.5590  -0.46055   0.12782   3.0011   \n",
              "15692 -15.64400 -15.9730 -11.9680  ...  16.6990  15.46100  14.13000  12.3930   \n",
              "15693 -11.07200 -13.6950 -13.3810  ...   7.4279   4.48850   4.43140   6.7222   \n",
              "15694  -0.57981  -2.3533  -2.0854  ...  12.7620  11.09300   9.80270  10.3710   \n",
              "15695 -11.48800 -14.4770 -16.4190  ...   1.1969   1.52980   2.75980   5.5230   \n",
              "\n",
              "             94       95       96       97      98     99  \n",
              "0       2.54120   2.6060   2.2587   2.8207  3.6663  2.977  \n",
              "1      -0.30921   1.4658   1.6661   2.5326  2.9095  3.889  \n",
              "2       8.78740   7.5012   7.3930   6.2177  5.0284  4.098  \n",
              "3       4.89040   5.4780   5.8122   6.0775  3.7969  4.605  \n",
              "4       9.85130  10.2140   8.3698   7.0593  6.6789  5.439  \n",
              "...         ...      ...      ...      ...     ...    ...  \n",
              "15691   5.22610   6.6191   7.3697   6.1280  4.3417  2.069  \n",
              "15692   9.90540  11.1470  10.2610   9.6713  7.0213  4.497  \n",
              "15693   9.92060   8.3431   9.4538   8.9652  8.4592  4.879  \n",
              "15694  11.67700  10.8000  10.5260  10.5630  8.7945  5.286  \n",
              "15695   6.03850   6.3805   6.5725   7.3579  5.9089  2.712  \n",
              "\n",
              "[15696 rows x 100 columns]"
            ],
            "text/html": [
              "\n",
              "  <div id=\"df-a7a109cc-eef2-4c24-bd09-89b0951e86fc\">\n",
              "    <div class=\"colab-df-container\">\n",
              "      <div>\n",
              "<style scoped>\n",
              "    .dataframe tbody tr th:only-of-type {\n",
              "        vertical-align: middle;\n",
              "    }\n",
              "\n",
              "    .dataframe tbody tr th {\n",
              "        vertical-align: top;\n",
              "    }\n",
              "\n",
              "    .dataframe thead th {\n",
              "        text-align: right;\n",
              "    }\n",
              "</style>\n",
              "<table border=\"1\" class=\"dataframe\">\n",
              "  <thead>\n",
              "    <tr style=\"text-align: right;\">\n",
              "      <th></th>\n",
              "      <th>0</th>\n",
              "      <th>1</th>\n",
              "      <th>2</th>\n",
              "      <th>3</th>\n",
              "      <th>4</th>\n",
              "      <th>5</th>\n",
              "      <th>6</th>\n",
              "      <th>7</th>\n",
              "      <th>8</th>\n",
              "      <th>9</th>\n",
              "      <th>...</th>\n",
              "      <th>90</th>\n",
              "      <th>91</th>\n",
              "      <th>92</th>\n",
              "      <th>93</th>\n",
              "      <th>94</th>\n",
              "      <th>95</th>\n",
              "      <th>96</th>\n",
              "      <th>97</th>\n",
              "      <th>98</th>\n",
              "      <th>99</th>\n",
              "    </tr>\n",
              "  </thead>\n",
              "  <tbody>\n",
              "    <tr>\n",
              "      <th>0</th>\n",
              "      <td>3.591</td>\n",
              "      <td>2.30980</td>\n",
              "      <td>1.30420</td>\n",
              "      <td>1.544600</td>\n",
              "      <td>0.99642</td>\n",
              "      <td>-0.86461</td>\n",
              "      <td>-1.8383</td>\n",
              "      <td>-3.34520</td>\n",
              "      <td>-5.4749</td>\n",
              "      <td>-8.6983</td>\n",
              "      <td>...</td>\n",
              "      <td>2.4066</td>\n",
              "      <td>2.31010</td>\n",
              "      <td>2.44570</td>\n",
              "      <td>2.7795</td>\n",
              "      <td>2.54120</td>\n",
              "      <td>2.6060</td>\n",
              "      <td>2.2587</td>\n",
              "      <td>2.8207</td>\n",
              "      <td>3.6663</td>\n",
              "      <td>2.977</td>\n",
              "    </tr>\n",
              "    <tr>\n",
              "      <th>1</th>\n",
              "      <td>2.199</td>\n",
              "      <td>0.30152</td>\n",
              "      <td>-0.49052</td>\n",
              "      <td>-0.002909</td>\n",
              "      <td>0.89121</td>\n",
              "      <td>0.30170</td>\n",
              "      <td>-2.7868</td>\n",
              "      <td>-6.95390</td>\n",
              "      <td>-9.0650</td>\n",
              "      <td>-8.6581</td>\n",
              "      <td>...</td>\n",
              "      <td>-2.6806</td>\n",
              "      <td>-1.52520</td>\n",
              "      <td>-0.81006</td>\n",
              "      <td>-1.4067</td>\n",
              "      <td>-0.30921</td>\n",
              "      <td>1.4658</td>\n",
              "      <td>1.6661</td>\n",
              "      <td>2.5326</td>\n",
              "      <td>2.9095</td>\n",
              "      <td>3.889</td>\n",
              "    </tr>\n",
              "    <tr>\n",
              "      <th>2</th>\n",
              "      <td>4.317</td>\n",
              "      <td>1.07650</td>\n",
              "      <td>-0.75328</td>\n",
              "      <td>0.764090</td>\n",
              "      <td>-0.55040</td>\n",
              "      <td>-3.91910</td>\n",
              "      <td>-7.3576</td>\n",
              "      <td>-10.71500</td>\n",
              "      <td>-12.6630</td>\n",
              "      <td>-11.4040</td>\n",
              "      <td>...</td>\n",
              "      <td>19.6700</td>\n",
              "      <td>17.28500</td>\n",
              "      <td>13.19600</td>\n",
              "      <td>10.5000</td>\n",
              "      <td>8.78740</td>\n",
              "      <td>7.5012</td>\n",
              "      <td>7.3930</td>\n",
              "      <td>6.2177</td>\n",
              "      <td>5.0284</td>\n",
              "      <td>4.098</td>\n",
              "    </tr>\n",
              "    <tr>\n",
              "      <th>3</th>\n",
              "      <td>3.310</td>\n",
              "      <td>0.52531</td>\n",
              "      <td>1.30960</td>\n",
              "      <td>0.409730</td>\n",
              "      <td>-2.29800</td>\n",
              "      <td>-5.33850</td>\n",
              "      <td>-9.7976</td>\n",
              "      <td>-12.07200</td>\n",
              "      <td>-12.3320</td>\n",
              "      <td>-10.2080</td>\n",
              "      <td>...</td>\n",
              "      <td>7.8613</td>\n",
              "      <td>7.05710</td>\n",
              "      <td>6.05990</td>\n",
              "      <td>4.8255</td>\n",
              "      <td>4.89040</td>\n",
              "      <td>5.4780</td>\n",
              "      <td>5.8122</td>\n",
              "      <td>6.0775</td>\n",
              "      <td>3.7969</td>\n",
              "      <td>4.605</td>\n",
              "    </tr>\n",
              "    <tr>\n",
              "      <th>4</th>\n",
              "      <td>1.821</td>\n",
              "      <td>-1.24800</td>\n",
              "      <td>-5.39700</td>\n",
              "      <td>-6.074400</td>\n",
              "      <td>-5.49380</td>\n",
              "      <td>-8.26350</td>\n",
              "      <td>-9.4401</td>\n",
              "      <td>-9.57430</td>\n",
              "      <td>-9.1991</td>\n",
              "      <td>-5.4045</td>\n",
              "      <td>...</td>\n",
              "      <td>17.5130</td>\n",
              "      <td>16.00400</td>\n",
              "      <td>13.37500</td>\n",
              "      <td>12.1960</td>\n",
              "      <td>9.85130</td>\n",
              "      <td>10.2140</td>\n",
              "      <td>8.3698</td>\n",
              "      <td>7.0593</td>\n",
              "      <td>6.6789</td>\n",
              "      <td>5.439</td>\n",
              "    </tr>\n",
              "    <tr>\n",
              "      <th>...</th>\n",
              "      <td>...</td>\n",
              "      <td>...</td>\n",
              "      <td>...</td>\n",
              "      <td>...</td>\n",
              "      <td>...</td>\n",
              "      <td>...</td>\n",
              "      <td>...</td>\n",
              "      <td>...</td>\n",
              "      <td>...</td>\n",
              "      <td>...</td>\n",
              "      <td>...</td>\n",
              "      <td>...</td>\n",
              "      <td>...</td>\n",
              "      <td>...</td>\n",
              "      <td>...</td>\n",
              "      <td>...</td>\n",
              "      <td>...</td>\n",
              "      <td>...</td>\n",
              "      <td>...</td>\n",
              "      <td>...</td>\n",
              "      <td>...</td>\n",
              "    </tr>\n",
              "    <tr>\n",
              "      <th>15691</th>\n",
              "      <td>-0.434</td>\n",
              "      <td>4.50740</td>\n",
              "      <td>5.93060</td>\n",
              "      <td>-2.600900</td>\n",
              "      <td>-14.79000</td>\n",
              "      <td>-21.28800</td>\n",
              "      <td>-24.8200</td>\n",
              "      <td>-21.49100</td>\n",
              "      <td>-24.4130</td>\n",
              "      <td>-20.9730</td>\n",
              "      <td>...</td>\n",
              "      <td>1.5590</td>\n",
              "      <td>-0.46055</td>\n",
              "      <td>0.12782</td>\n",
              "      <td>3.0011</td>\n",
              "      <td>5.22610</td>\n",
              "      <td>6.6191</td>\n",
              "      <td>7.3697</td>\n",
              "      <td>6.1280</td>\n",
              "      <td>4.3417</td>\n",
              "      <td>2.069</td>\n",
              "    </tr>\n",
              "    <tr>\n",
              "      <th>15692</th>\n",
              "      <td>1.164</td>\n",
              "      <td>4.43190</td>\n",
              "      <td>6.86710</td>\n",
              "      <td>-1.672000</td>\n",
              "      <td>-13.79200</td>\n",
              "      <td>-16.55900</td>\n",
              "      <td>-19.6420</td>\n",
              "      <td>-15.64400</td>\n",
              "      <td>-15.9730</td>\n",
              "      <td>-11.9680</td>\n",
              "      <td>...</td>\n",
              "      <td>16.6990</td>\n",
              "      <td>15.46100</td>\n",
              "      <td>14.13000</td>\n",
              "      <td>12.3930</td>\n",
              "      <td>9.90540</td>\n",
              "      <td>11.1470</td>\n",
              "      <td>10.2610</td>\n",
              "      <td>9.6713</td>\n",
              "      <td>7.0213</td>\n",
              "      <td>4.497</td>\n",
              "    </tr>\n",
              "    <tr>\n",
              "      <th>15693</th>\n",
              "      <td>4.382</td>\n",
              "      <td>6.59760</td>\n",
              "      <td>10.75200</td>\n",
              "      <td>9.721600</td>\n",
              "      <td>8.98050</td>\n",
              "      <td>1.87340</td>\n",
              "      <td>-6.8512</td>\n",
              "      <td>-11.07200</td>\n",
              "      <td>-13.6950</td>\n",
              "      <td>-13.3810</td>\n",
              "      <td>...</td>\n",
              "      <td>7.4279</td>\n",
              "      <td>4.48850</td>\n",
              "      <td>4.43140</td>\n",
              "      <td>6.7222</td>\n",
              "      <td>9.92060</td>\n",
              "      <td>8.3431</td>\n",
              "      <td>9.4538</td>\n",
              "      <td>8.9652</td>\n",
              "      <td>8.4592</td>\n",
              "      <td>4.879</td>\n",
              "    </tr>\n",
              "    <tr>\n",
              "      <th>15694</th>\n",
              "      <td>2.034</td>\n",
              "      <td>4.12090</td>\n",
              "      <td>9.56290</td>\n",
              "      <td>10.201000</td>\n",
              "      <td>4.41000</td>\n",
              "      <td>0.35724</td>\n",
              "      <td>-2.6013</td>\n",
              "      <td>-0.57981</td>\n",
              "      <td>-2.3533</td>\n",
              "      <td>-2.0854</td>\n",
              "      <td>...</td>\n",
              "      <td>12.7620</td>\n",
              "      <td>11.09300</td>\n",
              "      <td>9.80270</td>\n",
              "      <td>10.3710</td>\n",
              "      <td>11.67700</td>\n",
              "      <td>10.8000</td>\n",
              "      <td>10.5260</td>\n",
              "      <td>10.5630</td>\n",
              "      <td>8.7945</td>\n",
              "      <td>5.286</td>\n",
              "    </tr>\n",
              "    <tr>\n",
              "      <th>15695</th>\n",
              "      <td>1.835</td>\n",
              "      <td>4.16270</td>\n",
              "      <td>8.83130</td>\n",
              "      <td>6.386800</td>\n",
              "      <td>3.50040</td>\n",
              "      <td>-7.19020</td>\n",
              "      <td>-12.0380</td>\n",
              "      <td>-11.48800</td>\n",
              "      <td>-14.4770</td>\n",
              "      <td>-16.4190</td>\n",
              "      <td>...</td>\n",
              "      <td>1.1969</td>\n",
              "      <td>1.52980</td>\n",
              "      <td>2.75980</td>\n",
              "      <td>5.5230</td>\n",
              "      <td>6.03850</td>\n",
              "      <td>6.3805</td>\n",
              "      <td>6.5725</td>\n",
              "      <td>7.3579</td>\n",
              "      <td>5.9089</td>\n",
              "      <td>2.712</td>\n",
              "    </tr>\n",
              "  </tbody>\n",
              "</table>\n",
              "<p>15696 rows × 100 columns</p>\n",
              "</div>\n",
              "      <button class=\"colab-df-convert\" onclick=\"convertToInteractive('df-a7a109cc-eef2-4c24-bd09-89b0951e86fc')\"\n",
              "              title=\"Convert this dataframe to an interactive table.\"\n",
              "              style=\"display:none;\">\n",
              "        \n",
              "  <svg xmlns=\"http://www.w3.org/2000/svg\" height=\"24px\"viewBox=\"0 0 24 24\"\n",
              "       width=\"24px\">\n",
              "    <path d=\"M0 0h24v24H0V0z\" fill=\"none\"/>\n",
              "    <path d=\"M18.56 5.44l.94 2.06.94-2.06 2.06-.94-2.06-.94-.94-2.06-.94 2.06-2.06.94zm-11 1L8.5 8.5l.94-2.06 2.06-.94-2.06-.94L8.5 2.5l-.94 2.06-2.06.94zm10 10l.94 2.06.94-2.06 2.06-.94-2.06-.94-.94-2.06-.94 2.06-2.06.94z\"/><path d=\"M17.41 7.96l-1.37-1.37c-.4-.4-.92-.59-1.43-.59-.52 0-1.04.2-1.43.59L10.3 9.45l-7.72 7.72c-.78.78-.78 2.05 0 2.83L4 21.41c.39.39.9.59 1.41.59.51 0 1.02-.2 1.41-.59l7.78-7.78 2.81-2.81c.8-.78.8-2.07 0-2.86zM5.41 20L4 18.59l7.72-7.72 1.47 1.35L5.41 20z\"/>\n",
              "  </svg>\n",
              "      </button>\n",
              "      \n",
              "  <style>\n",
              "    .colab-df-container {\n",
              "      display:flex;\n",
              "      flex-wrap:wrap;\n",
              "      gap: 12px;\n",
              "    }\n",
              "\n",
              "    .colab-df-convert {\n",
              "      background-color: #E8F0FE;\n",
              "      border: none;\n",
              "      border-radius: 50%;\n",
              "      cursor: pointer;\n",
              "      display: none;\n",
              "      fill: #1967D2;\n",
              "      height: 32px;\n",
              "      padding: 0 0 0 0;\n",
              "      width: 32px;\n",
              "    }\n",
              "\n",
              "    .colab-df-convert:hover {\n",
              "      background-color: #E2EBFA;\n",
              "      box-shadow: 0px 1px 2px rgba(60, 64, 67, 0.3), 0px 1px 3px 1px rgba(60, 64, 67, 0.15);\n",
              "      fill: #174EA6;\n",
              "    }\n",
              "\n",
              "    [theme=dark] .colab-df-convert {\n",
              "      background-color: #3B4455;\n",
              "      fill: #D2E3FC;\n",
              "    }\n",
              "\n",
              "    [theme=dark] .colab-df-convert:hover {\n",
              "      background-color: #434B5C;\n",
              "      box-shadow: 0px 1px 3px 1px rgba(0, 0, 0, 0.15);\n",
              "      filter: drop-shadow(0px 1px 2px rgba(0, 0, 0, 0.3));\n",
              "      fill: #FFFFFF;\n",
              "    }\n",
              "  </style>\n",
              "\n",
              "      <script>\n",
              "        const buttonEl =\n",
              "          document.querySelector('#df-a7a109cc-eef2-4c24-bd09-89b0951e86fc button.colab-df-convert');\n",
              "        buttonEl.style.display =\n",
              "          google.colab.kernel.accessAllowed ? 'block' : 'none';\n",
              "\n",
              "        async function convertToInteractive(key) {\n",
              "          const element = document.querySelector('#df-a7a109cc-eef2-4c24-bd09-89b0951e86fc');\n",
              "          const dataTable =\n",
              "            await google.colab.kernel.invokeFunction('convertToInteractive',\n",
              "                                                     [key], {});\n",
              "          if (!dataTable) return;\n",
              "\n",
              "          const docLinkHtml = 'Like what you see? Visit the ' +\n",
              "            '<a target=\"_blank\" href=https://colab.research.google.com/notebooks/data_table.ipynb>data table notebook</a>'\n",
              "            + ' to learn more about interactive tables.';\n",
              "          element.innerHTML = '';\n",
              "          dataTable['output_type'] = 'display_data';\n",
              "          await google.colab.output.renderOutput(dataTable, element);\n",
              "          const docLink = document.createElement('div');\n",
              "          docLink.innerHTML = docLinkHtml;\n",
              "          element.appendChild(docLink);\n",
              "        }\n",
              "      </script>\n",
              "    </div>\n",
              "  </div>\n",
              "  "
            ]
          },
          "metadata": {},
          "execution_count": 8
        }
      ],
      "source": [
        "df = pd.read_csv(\"ML_GRF_stance_N.csv\", header=None)\n",
        "df"
      ],
      "id": "9efec641-6a95-43d1-b6c0-5856d3e1194f"
    },
    {
      "cell_type": "code",
      "execution_count": 9,
      "metadata": {
        "id": "94d4c90f-833b-4143-aaa3-1991b563b69b"
      },
      "outputs": [],
      "source": [
        "from keras.layers import Dense,Conv2D,MaxPooling2D,UpSampling2D\n",
        "from keras import Input, Model\n",
        "from keras.datasets import mnist\n",
        "import numpy as np\n",
        "import matplotlib.pyplot as plt\n",
        "\n",
        "\n"
      ],
      "id": "94d4c90f-833b-4143-aaa3-1991b563b69b"
    },
    {
      "cell_type": "code",
      "execution_count": 10,
      "metadata": {
        "id": "ae8e53d5-a2a2-4a9a-a527-66de133d69a8"
      },
      "outputs": [],
      "source": [
        "encoding_dim = 30\n",
        "input_data = Input(shape=(100,))\n",
        "\n",
        "# encoded representation of input\n",
        "encoded = Dense(encoding_dim, activation='tanh')(input_data)\n",
        "encoded_2 = Dense(200, activation='tanh')(encoded)\n",
        "encoded_3 = Dense(300, activation='tanh')(encoded_2)\n",
        "encoded_4 = Dense(encoding_dim, activation='tanh')(encoded_3)\n",
        "decoded_2 = Dense(200, activation='tanh')(encoded_4)\n",
        "decoded_1 = Dense(300, activation='tanh')(decoded_2)\n",
        "x2 = Dense(300, activation='tanh')(decoded_1)\n",
        "# decoded representation of code \n",
        "decoded = Dense(100)(x2)\n",
        "# Model which take input image and shows decoded images\n",
        "autoencoder = Model(input_data, decoded)"
      ],
      "id": "ae8e53d5-a2a2-4a9a-a527-66de133d69a8"
    },
    {
      "cell_type": "code",
      "execution_count": 11,
      "metadata": {
        "id": "ed83c28a-ec3e-47b3-9b41-3c7a580fe1a5"
      },
      "outputs": [],
      "source": [
        "autoencoder.compile(optimizer='adam', loss='mse')"
      ],
      "id": "ed83c28a-ec3e-47b3-9b41-3c7a580fe1a5"
    },
    {
      "cell_type": "code",
      "execution_count": 12,
      "metadata": {
        "colab": {
          "base_uri": "https://localhost:8080/"
        },
        "id": "491b8f14-c8d7-410d-b84c-40e3f6a2360f",
        "outputId": "c53b0831-b96a-487f-ba8e-24879ff61e9b"
      },
      "outputs": [
        {
          "output_type": "execute_result",
          "data": {
            "text/plain": [
              "(15696, 100)"
            ]
          },
          "metadata": {},
          "execution_count": 12
        }
      ],
      "source": [
        "data = np.array(df)\n",
        "data.shape"
      ],
      "id": "491b8f14-c8d7-410d-b84c-40e3f6a2360f"
    },
    {
      "cell_type": "code",
      "execution_count": 13,
      "metadata": {
        "id": "2dbbc237-f69d-44a8-8097-5b794b82d6b4"
      },
      "outputs": [],
      "source": [
        "from sklearn.model_selection import train_test_split\n",
        "\n",
        "X_train, X_test = train_test_split(data, test_size=0.2, random_state=2022)"
      ],
      "id": "2dbbc237-f69d-44a8-8097-5b794b82d6b4"
    },
    {
      "cell_type": "code",
      "execution_count": 14,
      "metadata": {
        "colab": {
          "base_uri": "https://localhost:8080/"
        },
        "id": "98678e5f-eed3-456a-a586-de33ed30accd",
        "outputId": "730f0536-4fd4-4a38-9276-4b3c1f5175c7"
      },
      "outputs": [
        {
          "output_type": "stream",
          "name": "stdout",
          "text": [
            "(12556, 100)\n",
            "(3140, 100)\n"
          ]
        }
      ],
      "source": [
        "print(X_train.shape)\n",
        "print(X_test.shape)"
      ],
      "id": "98678e5f-eed3-456a-a586-de33ed30accd"
    },
    {
      "cell_type": "code",
      "execution_count": 15,
      "metadata": {
        "id": "38e08b7b-165c-42ad-861d-c074c6d2bef5"
      },
      "outputs": [],
      "source": [
        "n_epochs = 8000"
      ],
      "id": "38e08b7b-165c-42ad-861d-c074c6d2bef5"
    },
    {
      "cell_type": "code",
      "execution_count": 16,
      "metadata": {
        "id": "8cfe0417-3b10-45bf-ab1e-f20f59596e14"
      },
      "outputs": [],
      "source": [
        "history = autoencoder.fit(X_train, X_train,\n",
        "                epochs=n_epochs,\n",
        "                batch_size=256,\n",
        "                validation_data=(X_test, X_test),\n",
        "                         verbose = False)"
      ],
      "id": "8cfe0417-3b10-45bf-ab1e-f20f59596e14"
    },
    {
      "cell_type": "code",
      "execution_count": 17,
      "metadata": {
        "colab": {
          "base_uri": "https://localhost:8080/",
          "height": 281
        },
        "id": "e28d4f45-c6ae-4517-ae50-6a80dae7d5d6",
        "outputId": "6cbacb84-f9ec-4d6e-d108-1e8d2b39b724"
      },
      "outputs": [
        {
          "output_type": "display_data",
          "data": {
            "text/plain": [
              "<Figure size 432x288 with 1 Axes>"
            ],
            "image/png": "[encoded data removed]"
          },
          "metadata": {
            "needs_background": "light"
          }
        }
      ],
      "source": [
        "loss = history.history['loss']\n",
        "val_loss = history.history['val_loss']\n",
        "epochs = range(n_epochs)\n",
        "plt.figure()\n",
        "plt.plot(epochs, loss, '-', label='Training loss', lw=1)\n",
        "plt.plot(epochs, val_loss, 'b', label='Validation loss', lw=1)\n",
        "plt.title('Training and validation loss')\n",
        "plt.legend()\n",
        "plt.show()\n",
        "plt.close()"
      ],
      "id": "e28d4f45-c6ae-4517-ae50-6a80dae7d5d6"
    },
    {
      "cell_type": "code",
      "execution_count": null,
      "metadata": {
        "id": "912b8a6b-ae54-4823-a6d7-42944f95edf0"
      },
      "outputs": [],
      "source": [
        "decoded_data = autoencoder(X_test)"
      ],
      "id": "912b8a6b-ae54-4823-a6d7-42944f95edf0"
    },
    {
      "cell_type": "code",
      "execution_count": null,
      "metadata": {
        "colab": {
          "base_uri": "https://localhost:8080/"
        },
        "id": "3159f065-5290-47c2-9fa6-77827f416135",
        "outputId": "7befe644-0664-4f45-e579-7ad7a28a83c6"
      },
      "outputs": [
        {
          "data": {
            "text/plain": [
              "TensorShape([3140, 100])"
            ]
          },
          "execution_count": 15,
          "metadata": {},
          "output_type": "execute_result"
        }
      ],
      "source": [
        "decoded_data.shape"
      ],
      "id": "3159f065-5290-47c2-9fa6-77827f416135"
    },
    {
      "cell_type": "markdown",
      "metadata": {
        "id": "43fa583b-8866-4ea3-80b8-d23bc434324b"
      },
      "source": [
        "## Example 1:"
      ],
      "id": "43fa583b-8866-4ea3-80b8-d23bc434324b"
    },
    {
      "cell_type": "code",
      "execution_count": null,
      "metadata": {
        "colab": {
          "base_uri": "https://localhost:8080/",
          "height": 265
        },
        "id": "1e798d84-a8ef-4718-bff8-3b9892b60a97",
        "outputId": "f43c9d3e-0f1f-4650-cb2b-0b0152c605d3"
      },
      "outputs": [
        {
          "data": {
            "image/png": "[encoded data removed]",
            "text/plain": [
              "<Figure size 432x288 with 1 Axes>"
            ]
          },
          "metadata": {},
          "output_type": "display_data"
        }
      ],
      "source": [
        "xx = np.arange(0,100)\n",
        "plt.plot(xx, decoded_data[0], label=\"Predicted\")\n",
        "plt.plot(xx, X_test[0], label=\"Ground Truth\")\n",
        "plt.legend()\n",
        "plt.show()"
      ],
      "id": "1e798d84-a8ef-4718-bff8-3b9892b60a97"
    },
    {
      "cell_type": "markdown",
      "metadata": {
        "id": "0f149266-a5f0-4ca5-9534-9d7fbf0bee60"
      },
      "source": [
        "## Example 2:"
      ],
      "id": "0f149266-a5f0-4ca5-9534-9d7fbf0bee60"
    },
    {
      "cell_type": "code",
      "execution_count": null,
      "metadata": {
        "colab": {
          "base_uri": "https://localhost:8080/",
          "height": 265
        },
        "id": "1ff861d3-d1c6-4149-91a3-407f598281e7",
        "outputId": "f9d0ac4d-92dd-47d2-fba8-0b50cf89eba7"
      },
      "outputs": [
        {
          "data": {
            "image/png": "[encoded data removed]",
            "text/plain": [
              "<Figure size 432x288 with 1 Axes>"
            ]
          },
          "metadata": {},
          "output_type": "display_data"
        }
      ],
      "source": [
        "xx = np.arange(0,100)\n",
        "plt.plot(xx, decoded_data[1], label=\"Predicted\")\n",
        "plt.plot(xx, X_test[1], label=\"Ground Truth\")\n",
        "plt.legend()\n",
        "plt.show()"
      ],
      "id": "1ff861d3-d1c6-4149-91a3-407f598281e7"
    },
    {
      "cell_type": "markdown",
      "metadata": {
        "id": "56a11b46-c3a3-4cd6-ba7e-8208af61a7e3"
      },
      "source": [
        "## Example 3:"
      ],
      "id": "56a11b46-c3a3-4cd6-ba7e-8208af61a7e3"
    },
    {
      "cell_type": "code",
      "execution_count": null,
      "metadata": {
        "colab": {
          "base_uri": "https://localhost:8080/",
          "height": 265
        },
        "id": "e46e6de8-4a85-4b7b-a610-7b93a4358c1c",
        "outputId": "69dfa6b0-529c-4d92-de7f-f18f1e48c872"
      },
      "outputs": [
        {
          "data": {
            "image/png": "[encoded data removed]",
            "text/plain": [
              "<Figure size 432x288 with 1 Axes>"
            ]
          },
          "metadata": {},
          "output_type": "display_data"
        }
      ],
      "source": [
        "xx = np.arange(0,100)\n",
        "plt.plot(xx, decoded_data[2], label=\"Predicted\")\n",
        "plt.plot(xx, X_test[2], label=\"Ground Truth\")\n",
        "plt.legend()\n",
        "plt.show()"
      ],
      "id": "e46e6de8-4a85-4b7b-a610-7b93a4358c1c"
    }
  ],
  "metadata": {
    "colab": {
      "name": "AutoEncoder.ipynb",
      "provenance": []
    },
    "kernelspec": {
      "display_name": "Python 3",
      "language": "python",
      "name": "python3"
    },
    "language_info": {
      "codemirror_mode": {
        "name": "ipython",
        "version": 3
      },
      "file_extension": ".py",
      "mimetype": "text/x-python",
      "name": "python",
      "nbconvert_exporter": "python",
      "pygments_lexer": "ipython3",
      "version": "3.8.8"
    }
  },
  "nbformat": 4,
  "nbformat_minor": 5
}