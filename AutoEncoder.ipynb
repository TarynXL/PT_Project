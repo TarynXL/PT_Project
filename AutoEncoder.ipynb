{
 "cells": [
  {
   "cell_type": "code",
   "execution_count": 1,
   "id": "f470f635-8920-4b46-81cd-6e726af38d3e",
   "metadata": {},
   "outputs": [],
   "source": [
    "import numpy as np\n",
    "import pandas as pd\n",
    "import matplotlib.pyplot as plt"
   ]
  },
  {
   "cell_type": "code",
   "execution_count": 7,
   "id": "9efec641-6a95-43d1-b6c0-5856d3e1194f",
   "metadata": {},
   "outputs": [
    {
     "data": {
      "text/html": [
       "<div>\n",
       "<style scoped>\n",
       "    .dataframe tbody tr th:only-of-type {\n",
       "        vertical-align: middle;\n",
       "    }\n",
       "\n",
       "    .dataframe tbody tr th {\n",
       "        vertical-align: top;\n",
       "    }\n",
       "\n",
       "    .dataframe thead th {\n",
       "        text-align: right;\n",
       "    }\n",
       "</style>\n",
       "<table border=\"1\" class=\"dataframe\">\n",
       "  <thead>\n",
       "    <tr style=\"text-align: right;\">\n",
       "      <th></th>\n",
       "      <th>0</th>\n",
       "      <th>1</th>\n",
       "      <th>2</th>\n",
       "      <th>3</th>\n",
       "      <th>4</th>\n",
       "      <th>5</th>\n",
       "      <th>6</th>\n",
       "      <th>7</th>\n",
       "      <th>8</th>\n",
       "      <th>9</th>\n",
       "      <th>...</th>\n",
       "      <th>90</th>\n",
       "      <th>91</th>\n",
       "      <th>92</th>\n",
       "      <th>93</th>\n",
       "      <th>94</th>\n",
       "      <th>95</th>\n",
       "      <th>96</th>\n",
       "      <th>97</th>\n",
       "      <th>98</th>\n",
       "      <th>99</th>\n",
       "    </tr>\n",
       "  </thead>\n",
       "  <tbody>\n",
       "    <tr>\n",
       "      <th>0</th>\n",
       "      <td>3.591</td>\n",
       "      <td>2.30980</td>\n",
       "      <td>1.30420</td>\n",
       "      <td>1.544600</td>\n",
       "      <td>0.99642</td>\n",
       "      <td>-0.86461</td>\n",
       "      <td>-1.8383</td>\n",
       "      <td>-3.34520</td>\n",
       "      <td>-5.4749</td>\n",
       "      <td>-8.6983</td>\n",
       "      <td>...</td>\n",
       "      <td>2.4066</td>\n",
       "      <td>2.31010</td>\n",
       "      <td>2.44570</td>\n",
       "      <td>2.7795</td>\n",
       "      <td>2.54120</td>\n",
       "      <td>2.6060</td>\n",
       "      <td>2.2587</td>\n",
       "      <td>2.8207</td>\n",
       "      <td>3.6663</td>\n",
       "      <td>2.977</td>\n",
       "    </tr>\n",
       "    <tr>\n",
       "      <th>1</th>\n",
       "      <td>2.199</td>\n",
       "      <td>0.30152</td>\n",
       "      <td>-0.49052</td>\n",
       "      <td>-0.002909</td>\n",
       "      <td>0.89121</td>\n",
       "      <td>0.30170</td>\n",
       "      <td>-2.7868</td>\n",
       "      <td>-6.95390</td>\n",
       "      <td>-9.0650</td>\n",
       "      <td>-8.6581</td>\n",
       "      <td>...</td>\n",
       "      <td>-2.6806</td>\n",
       "      <td>-1.52520</td>\n",
       "      <td>-0.81006</td>\n",
       "      <td>-1.4067</td>\n",
       "      <td>-0.30921</td>\n",
       "      <td>1.4658</td>\n",
       "      <td>1.6661</td>\n",
       "      <td>2.5326</td>\n",
       "      <td>2.9095</td>\n",
       "      <td>3.889</td>\n",
       "    </tr>\n",
       "    <tr>\n",
       "      <th>2</th>\n",
       "      <td>4.317</td>\n",
       "      <td>1.07650</td>\n",
       "      <td>-0.75328</td>\n",
       "      <td>0.764090</td>\n",
       "      <td>-0.55040</td>\n",
       "      <td>-3.91910</td>\n",
       "      <td>-7.3576</td>\n",
       "      <td>-10.71500</td>\n",
       "      <td>-12.6630</td>\n",
       "      <td>-11.4040</td>\n",
       "      <td>...</td>\n",
       "      <td>19.6700</td>\n",
       "      <td>17.28500</td>\n",
       "      <td>13.19600</td>\n",
       "      <td>10.5000</td>\n",
       "      <td>8.78740</td>\n",
       "      <td>7.5012</td>\n",
       "      <td>7.3930</td>\n",
       "      <td>6.2177</td>\n",
       "      <td>5.0284</td>\n",
       "      <td>4.098</td>\n",
       "    </tr>\n",
       "    <tr>\n",
       "      <th>3</th>\n",
       "      <td>3.310</td>\n",
       "      <td>0.52531</td>\n",
       "      <td>1.30960</td>\n",
       "      <td>0.409730</td>\n",
       "      <td>-2.29800</td>\n",
       "      <td>-5.33850</td>\n",
       "      <td>-9.7976</td>\n",
       "      <td>-12.07200</td>\n",
       "      <td>-12.3320</td>\n",
       "      <td>-10.2080</td>\n",
       "      <td>...</td>\n",
       "      <td>7.8613</td>\n",
       "      <td>7.05710</td>\n",
       "      <td>6.05990</td>\n",
       "      <td>4.8255</td>\n",
       "      <td>4.89040</td>\n",
       "      <td>5.4780</td>\n",
       "      <td>5.8122</td>\n",
       "      <td>6.0775</td>\n",
       "      <td>3.7969</td>\n",
       "      <td>4.605</td>\n",
       "    </tr>\n",
       "    <tr>\n",
       "      <th>4</th>\n",
       "      <td>1.821</td>\n",
       "      <td>-1.24800</td>\n",
       "      <td>-5.39700</td>\n",
       "      <td>-6.074400</td>\n",
       "      <td>-5.49380</td>\n",
       "      <td>-8.26350</td>\n",
       "      <td>-9.4401</td>\n",
       "      <td>-9.57430</td>\n",
       "      <td>-9.1991</td>\n",
       "      <td>-5.4045</td>\n",
       "      <td>...</td>\n",
       "      <td>17.5130</td>\n",
       "      <td>16.00400</td>\n",
       "      <td>13.37500</td>\n",
       "      <td>12.1960</td>\n",
       "      <td>9.85130</td>\n",
       "      <td>10.2140</td>\n",
       "      <td>8.3698</td>\n",
       "      <td>7.0593</td>\n",
       "      <td>6.6789</td>\n",
       "      <td>5.439</td>\n",
       "    </tr>\n",
       "    <tr>\n",
       "      <th>...</th>\n",
       "      <td>...</td>\n",
       "      <td>...</td>\n",
       "      <td>...</td>\n",
       "      <td>...</td>\n",
       "      <td>...</td>\n",
       "      <td>...</td>\n",
       "      <td>...</td>\n",
       "      <td>...</td>\n",
       "      <td>...</td>\n",
       "      <td>...</td>\n",
       "      <td>...</td>\n",
       "      <td>...</td>\n",
       "      <td>...</td>\n",
       "      <td>...</td>\n",
       "      <td>...</td>\n",
       "      <td>...</td>\n",
       "      <td>...</td>\n",
       "      <td>...</td>\n",
       "      <td>...</td>\n",
       "      <td>...</td>\n",
       "      <td>...</td>\n",
       "    </tr>\n",
       "    <tr>\n",
       "      <th>15691</th>\n",
       "      <td>-0.434</td>\n",
       "      <td>4.50740</td>\n",
       "      <td>5.93060</td>\n",
       "      <td>-2.600900</td>\n",
       "      <td>-14.79000</td>\n",
       "      <td>-21.28800</td>\n",
       "      <td>-24.8200</td>\n",
       "      <td>-21.49100</td>\n",
       "      <td>-24.4130</td>\n",
       "      <td>-20.9730</td>\n",
       "      <td>...</td>\n",
       "      <td>1.5590</td>\n",
       "      <td>-0.46055</td>\n",
       "      <td>0.12782</td>\n",
       "      <td>3.0011</td>\n",
       "      <td>5.22610</td>\n",
       "      <td>6.6191</td>\n",
       "      <td>7.3697</td>\n",
       "      <td>6.1280</td>\n",
       "      <td>4.3417</td>\n",
       "      <td>2.069</td>\n",
       "    </tr>\n",
       "    <tr>\n",
       "      <th>15692</th>\n",
       "      <td>1.164</td>\n",
       "      <td>4.43190</td>\n",
       "      <td>6.86710</td>\n",
       "      <td>-1.672000</td>\n",
       "      <td>-13.79200</td>\n",
       "      <td>-16.55900</td>\n",
       "      <td>-19.6420</td>\n",
       "      <td>-15.64400</td>\n",
       "      <td>-15.9730</td>\n",
       "      <td>-11.9680</td>\n",
       "      <td>...</td>\n",
       "      <td>16.6990</td>\n",
       "      <td>15.46100</td>\n",
       "      <td>14.13000</td>\n",
       "      <td>12.3930</td>\n",
       "      <td>9.90540</td>\n",
       "      <td>11.1470</td>\n",
       "      <td>10.2610</td>\n",
       "      <td>9.6713</td>\n",
       "      <td>7.0213</td>\n",
       "      <td>4.497</td>\n",
       "    </tr>\n",
       "    <tr>\n",
       "      <th>15693</th>\n",
       "      <td>4.382</td>\n",
       "      <td>6.59760</td>\n",
       "      <td>10.75200</td>\n",
       "      <td>9.721600</td>\n",
       "      <td>8.98050</td>\n",
       "      <td>1.87340</td>\n",
       "      <td>-6.8512</td>\n",
       "      <td>-11.07200</td>\n",
       "      <td>-13.6950</td>\n",
       "      <td>-13.3810</td>\n",
       "      <td>...</td>\n",
       "      <td>7.4279</td>\n",
       "      <td>4.48850</td>\n",
       "      <td>4.43140</td>\n",
       "      <td>6.7222</td>\n",
       "      <td>9.92060</td>\n",
       "      <td>8.3431</td>\n",
       "      <td>9.4538</td>\n",
       "      <td>8.9652</td>\n",
       "      <td>8.4592</td>\n",
       "      <td>4.879</td>\n",
       "    </tr>\n",
       "    <tr>\n",
       "      <th>15694</th>\n",
       "      <td>2.034</td>\n",
       "      <td>4.12090</td>\n",
       "      <td>9.56290</td>\n",
       "      <td>10.201000</td>\n",
       "      <td>4.41000</td>\n",
       "      <td>0.35724</td>\n",
       "      <td>-2.6013</td>\n",
       "      <td>-0.57981</td>\n",
       "      <td>-2.3533</td>\n",
       "      <td>-2.0854</td>\n",
       "      <td>...</td>\n",
       "      <td>12.7620</td>\n",
       "      <td>11.09300</td>\n",
       "      <td>9.80270</td>\n",
       "      <td>10.3710</td>\n",
       "      <td>11.67700</td>\n",
       "      <td>10.8000</td>\n",
       "      <td>10.5260</td>\n",
       "      <td>10.5630</td>\n",
       "      <td>8.7945</td>\n",
       "      <td>5.286</td>\n",
       "    </tr>\n",
       "    <tr>\n",
       "      <th>15695</th>\n",
       "      <td>1.835</td>\n",
       "      <td>4.16270</td>\n",
       "      <td>8.83130</td>\n",
       "      <td>6.386800</td>\n",
       "      <td>3.50040</td>\n",
       "      <td>-7.19020</td>\n",
       "      <td>-12.0380</td>\n",
       "      <td>-11.48800</td>\n",
       "      <td>-14.4770</td>\n",
       "      <td>-16.4190</td>\n",
       "      <td>...</td>\n",
       "      <td>1.1969</td>\n",
       "      <td>1.52980</td>\n",
       "      <td>2.75980</td>\n",
       "      <td>5.5230</td>\n",
       "      <td>6.03850</td>\n",
       "      <td>6.3805</td>\n",
       "      <td>6.5725</td>\n",
       "      <td>7.3579</td>\n",
       "      <td>5.9089</td>\n",
       "      <td>2.712</td>\n",
       "    </tr>\n",
       "  </tbody>\n",
       "</table>\n",
       "<p>15696 rows × 100 columns</p>\n",
       "</div>"
      ],
      "text/plain": [
       "          0        1         2          3         4         5        6   \\\n",
       "0      3.591  2.30980   1.30420   1.544600   0.99642  -0.86461  -1.8383   \n",
       "1      2.199  0.30152  -0.49052  -0.002909   0.89121   0.30170  -2.7868   \n",
       "2      4.317  1.07650  -0.75328   0.764090  -0.55040  -3.91910  -7.3576   \n",
       "3      3.310  0.52531   1.30960   0.409730  -2.29800  -5.33850  -9.7976   \n",
       "4      1.821 -1.24800  -5.39700  -6.074400  -5.49380  -8.26350  -9.4401   \n",
       "...      ...      ...       ...        ...       ...       ...      ...   \n",
       "15691 -0.434  4.50740   5.93060  -2.600900 -14.79000 -21.28800 -24.8200   \n",
       "15692  1.164  4.43190   6.86710  -1.672000 -13.79200 -16.55900 -19.6420   \n",
       "15693  4.382  6.59760  10.75200   9.721600   8.98050   1.87340  -6.8512   \n",
       "15694  2.034  4.12090   9.56290  10.201000   4.41000   0.35724  -2.6013   \n",
       "15695  1.835  4.16270   8.83130   6.386800   3.50040  -7.19020 -12.0380   \n",
       "\n",
       "             7        8        9   ...       90        91        92       93  \\\n",
       "0      -3.34520  -5.4749  -8.6983  ...   2.4066   2.31010   2.44570   2.7795   \n",
       "1      -6.95390  -9.0650  -8.6581  ...  -2.6806  -1.52520  -0.81006  -1.4067   \n",
       "2     -10.71500 -12.6630 -11.4040  ...  19.6700  17.28500  13.19600  10.5000   \n",
       "3     -12.07200 -12.3320 -10.2080  ...   7.8613   7.05710   6.05990   4.8255   \n",
       "4      -9.57430  -9.1991  -5.4045  ...  17.5130  16.00400  13.37500  12.1960   \n",
       "...         ...      ...      ...  ...      ...       ...       ...      ...   \n",
       "15691 -21.49100 -24.4130 -20.9730  ...   1.5590  -0.46055   0.12782   3.0011   \n",
       "15692 -15.64400 -15.9730 -11.9680  ...  16.6990  15.46100  14.13000  12.3930   \n",
       "15693 -11.07200 -13.6950 -13.3810  ...   7.4279   4.48850   4.43140   6.7222   \n",
       "15694  -0.57981  -2.3533  -2.0854  ...  12.7620  11.09300   9.80270  10.3710   \n",
       "15695 -11.48800 -14.4770 -16.4190  ...   1.1969   1.52980   2.75980   5.5230   \n",
       "\n",
       "             94       95       96       97      98     99  \n",
       "0       2.54120   2.6060   2.2587   2.8207  3.6663  2.977  \n",
       "1      -0.30921   1.4658   1.6661   2.5326  2.9095  3.889  \n",
       "2       8.78740   7.5012   7.3930   6.2177  5.0284  4.098  \n",
       "3       4.89040   5.4780   5.8122   6.0775  3.7969  4.605  \n",
       "4       9.85130  10.2140   8.3698   7.0593  6.6789  5.439  \n",
       "...         ...      ...      ...      ...     ...    ...  \n",
       "15691   5.22610   6.6191   7.3697   6.1280  4.3417  2.069  \n",
       "15692   9.90540  11.1470  10.2610   9.6713  7.0213  4.497  \n",
       "15693   9.92060   8.3431   9.4538   8.9652  8.4592  4.879  \n",
       "15694  11.67700  10.8000  10.5260  10.5630  8.7945  5.286  \n",
       "15695   6.03850   6.3805   6.5725   7.3579  5.9089  2.712  \n",
       "\n",
       "[15696 rows x 100 columns]"
      ]
     },
     "execution_count": 7,
     "metadata": {},
     "output_type": "execute_result"
    }
   ],
   "source": [
    "df = pd.read_csv(\"Data/ML_GRF_stance_N.csv\", header=None)\n",
    "df"
   ]
  },
  {
   "cell_type": "code",
   "execution_count": 8,
   "id": "94d4c90f-833b-4143-aaa3-1991b563b69b",
   "metadata": {},
   "outputs": [],
   "source": [
    "from keras.layers import Dense,Conv2D,MaxPooling2D,UpSampling2D\n",
    "from keras import Input, Model\n",
    "from keras.datasets import mnist\n",
    "import numpy as np\n",
    "import matplotlib.pyplot as plt"
   ]
  },
  {
   "cell_type": "code",
   "execution_count": 76,
   "id": "ae8e53d5-a2a2-4a9a-a527-66de133d69a8",
   "metadata": {},
   "outputs": [],
   "source": [
    "encoding_dim = 20\n",
    "input_data = Input(shape=(100,))\n",
    "\n",
    "# encoded representation of input\n",
    "encoded = Dense(encoding_dim, activation='tanh')(input_data)\n",
    "encoded_2 = Dense(200, activation='tanh')(encoded)\n",
    "encoded_3 = Dense(300, activation='tanh')(encoded_2)\n",
    "encoded_4 = Dense(encoding_dim, activation='tanh')(encoded_3)\n",
    "decoded_2 = Dense(200, activation='tanh')(encoded_4)\n",
    "decoded_1 = Dense(300, activation='tanh')(decoded_2)\n",
    "x2 = Dense(300, activation='tanh')(decoded_1)\n",
    "# decoded representation of code \n",
    "decoded = Dense(100)(x2)\n",
    "# Model which take input image and shows decoded images\n",
    "autoencoder = Model(input_data, decoded)"
   ]
  },
  {
   "cell_type": "code",
   "execution_count": 78,
   "id": "ed83c28a-ec3e-47b3-9b41-3c7a580fe1a5",
   "metadata": {},
   "outputs": [],
   "source": [
    "autoencoder.compile(optimizer='adam', loss='mse')"
   ]
  },
  {
   "cell_type": "code",
   "execution_count": 79,
   "id": "491b8f14-c8d7-410d-b84c-40e3f6a2360f",
   "metadata": {},
   "outputs": [
    {
     "data": {
      "text/plain": [
       "(15696, 100)"
      ]
     },
     "execution_count": 79,
     "metadata": {},
     "output_type": "execute_result"
    }
   ],
   "source": [
    "data = np.array(df)\n",
    "data.shape"
   ]
  },
  {
   "cell_type": "code",
   "execution_count": 80,
   "id": "2dbbc237-f69d-44a8-8097-5b794b82d6b4",
   "metadata": {},
   "outputs": [],
   "source": [
    "from sklearn.model_selection import train_test_split\n",
    "\n",
    "X_train, X_test = train_test_split(data, test_size=0.2, random_state=2022)"
   ]
  },
  {
   "cell_type": "code",
   "execution_count": 81,
   "id": "98678e5f-eed3-456a-a586-de33ed30accd",
   "metadata": {},
   "outputs": [
    {
     "name": "stdout",
     "output_type": "stream",
     "text": [
      "(12556, 100)\n",
      "(3140, 100)\n"
     ]
    }
   ],
   "source": [
    "print(X_train.shape)\n",
    "print(X_test.shape)"
   ]
  },
  {
   "cell_type": "code",
   "execution_count": 82,
   "id": "38e08b7b-165c-42ad-861d-c074c6d2bef5",
   "metadata": {},
   "outputs": [],
   "source": [
    "n_epochs = 500"
   ]
  },
  {
   "cell_type": "code",
   "execution_count": 83,
   "id": "8cfe0417-3b10-45bf-ab1e-f20f59596e14",
   "metadata": {},
   "outputs": [],
   "source": [
    "history = autoencoder.fit(X_train, X_train,\n",
    "                epochs=n_epochs,\n",
    "                batch_size=256,\n",
    "                validation_data=(X_test, X_test),\n",
    "                         verbose = False)"
   ]
  },
  {
   "cell_type": "code",
   "execution_count": 84,
   "id": "e28d4f45-c6ae-4517-ae50-6a80dae7d5d6",
   "metadata": {},
   "outputs": [
    {
     "data": {
      "image/png": "[encoded data removed]",
      "text/plain": [
       "<Figure size 432x288 with 1 Axes>"
      ]
     },
     "metadata": {
      "needs_background": "light"
     },
     "output_type": "display_data"
    }
   ],
   "source": [
    "loss = history.history['loss']\n",
    "val_loss = history.history['val_loss']\n",
    "epochs = range(n_epochs)\n",
    "plt.figure()\n",
    "plt.plot(epochs, loss, '-', label='Training loss', lw=1)\n",
    "plt.plot(epochs, val_loss, 'b', label='Validation loss', lw=1)\n",
    "plt.title('Training and validation loss')\n",
    "plt.legend()\n",
    "plt.show()\n",
    "plt.close()"
   ]
  },
  {
   "cell_type": "code",
   "execution_count": 86,
   "id": "912b8a6b-ae54-4823-a6d7-42944f95edf0",
   "metadata": {},
   "outputs": [],
   "source": [
    "decoded_data = autoencoder(X_test)"
   ]
  },
  {
   "cell_type": "code",
   "execution_count": 87,
   "id": "3159f065-5290-47c2-9fa6-77827f416135",
   "metadata": {},
   "outputs": [
    {
     "data": {
      "text/plain": [
       "TensorShape([3140, 100])"
      ]
     },
     "execution_count": 87,
     "metadata": {},
     "output_type": "execute_result"
    }
   ],
   "source": [
    "decoded_data.shape"
   ]
  },
  {
   "cell_type": "markdown",
   "id": "43fa583b-8866-4ea3-80b8-d23bc434324b",
   "metadata": {},
   "source": [
    "## Example 1:"
   ]
  },
  {
   "cell_type": "code",
   "execution_count": 89,
   "id": "1e798d84-a8ef-4718-bff8-3b9892b60a97",
   "metadata": {},
   "outputs": [
    {
     "data": {
      "image/png": "[encoded data removed]",
      "text/plain": [
       "<Figure size 432x288 with 1 Axes>"
      ]
     },
     "metadata": {
      "needs_background": "light"
     },
     "output_type": "display_data"
    }
   ],
   "source": [
    "xx = np.arange(0,100)\n",
    "plt.plot(xx, decoded_data[0], label=\"Predicted\")\n",
    "plt.plot(xx, X_test[0], label=\"Ground Truth\")\n",
    "plt.legend()\n",
    "plt.show()"
   ]
  },
  {
   "cell_type": "markdown",
   "id": "0f149266-a5f0-4ca5-9534-9d7fbf0bee60",
   "metadata": {},
   "source": [
    "## Example 2:"
   ]
  },
  {
   "cell_type": "code",
   "execution_count": 90,
   "id": "1ff861d3-d1c6-4149-91a3-407f598281e7",
   "metadata": {},
   "outputs": [
    {
     "data": {
      "image/png": "[encoded data removed]",
      "text/plain": [
       "<Figure size 432x288 with 1 Axes>"
      ]
     },
     "metadata": {
      "needs_background": "light"
     },
     "output_type": "display_data"
    }
   ],
   "source": [
    "xx = np.arange(0,100)\n",
    "plt.plot(xx, decoded_data[1], label=\"Predicted\")\n",
    "plt.plot(xx, X_test[1], label=\"Ground Truth\")\n",
    "plt.legend()\n",
    "plt.show()"
   ]
  },
  {
   "cell_type": "markdown",
   "id": "56a11b46-c3a3-4cd6-ba7e-8208af61a7e3",
   "metadata": {},
   "source": [
    "## Example 3:"
   ]
  },
  {
   "cell_type": "code",
   "execution_count": 91,
   "id": "e46e6de8-4a85-4b7b-a610-7b93a4358c1c",
   "metadata": {},
   "outputs": [
    {
     "data": {
      "image/png": "[encoded data removed]",
      "text/plain": [
       "<Figure size 432x288 with 1 Axes>"
      ]
     },
     "metadata": {
      "needs_background": "light"
     },
     "output_type": "display_data"
    }
   ],
   "source": [
    "xx = np.arange(0,100)\n",
    "plt.plot(xx, decoded_data[2], label=\"Predicted\")\n",
    "plt.plot(xx, X_test[2], label=\"Ground Truth\")\n",
    "plt.legend()\n",
    "plt.show()"
   ]
  },
  {
   "cell_type": "code",
   "execution_count": null,
   "id": "88b052ee-46a7-4c21-8102-9653055cbf45",
   "metadata": {},
   "outputs": [],
   "source": []
  }
 ],
 "metadata": {
  "kernelspec": {
   "display_name": "Python 3",
   "language": "python",
   "name": "python3"
  },
  "language_info": {
   "codemirror_mode": {
    "name": "ipython",
    "version": 3
   },
   "file_extension": ".py",
   "mimetype": "text/x-python",
   "name": "python",
   "nbconvert_exporter": "python",
   "pygments_lexer": "ipython3",
   "version": "3.8.8"
  }
 },
 "nbformat": 4,
 "nbformat_minor": 5
}
